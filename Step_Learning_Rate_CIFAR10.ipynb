{
 "cells": [
  {
   "cell_type": "markdown",
   "metadata": {},
   "source": [
    "Import the necessary packages"
   ]
  },
  {
   "cell_type": "code",
   "execution_count": 2,
   "metadata": {},
   "outputs": [
    {
     "name": "stderr",
     "output_type": "stream",
     "text": [
      "Using TensorFlow backend.\n"
     ]
    }
   ],
   "source": [
    "import matplotlib\n",
    "matplotlib.use(\"Agg\")\n",
    "from sklearn.preprocessing import LabelBinarizer\n",
    "from sklearn.metrics import classification_report\n",
    "from minivggnet import MiniVGGNet\n",
    "from keras.callbacks import LearningRateScheduler\n",
    "from keras.optimizers import SGD\n",
    "from keras.datasets import cifar10\n",
    "import matplotlib.pyplot as plt\n",
    "import numpy as np\n"
   ]
  },
  {
   "cell_type": "markdown",
   "metadata": {},
   "source": [
    "Step decay to drop learnging rate by a given facotry every X (dropEvery) epochs"
   ]
  },
  {
   "cell_type": "code",
   "execution_count": 3,
   "metadata": {
    "collapsed": true
   },
   "outputs": [],
   "source": [
    "def step_decay(epoch):\n",
    "\t\n",
    "\tinitAlpha = 0.01\n",
    "\tfactor = 0.25\n",
    "\tdropEvery = 5\n",
    "\n",
    "\t# learing rate for current epoch\n",
    "\talpha = initAlpha * (factor ** np.floor((1 + epoch) / dropEvery))\n",
    "\n",
    "\t# return the learning rate\n",
    "\treturn float(alpha)"
   ]
  },
  {
   "cell_type": "markdown",
   "metadata": {},
   "source": [
    "load cifar10 data and normalize"
   ]
  },
  {
   "cell_type": "code",
   "execution_count": 4,
   "metadata": {
    "collapsed": true
   },
   "outputs": [],
   "source": [
    "((trainX, trainY), (testX, testY)) = cifar10.load_data()\n",
    "trainX = trainX.astype(\"float\") / 255.0\n",
    "testX = testX.astype(\"float\") / 255.0"
   ]
  },
  {
   "cell_type": "markdown",
   "metadata": {},
   "source": [
    "create label vector"
   ]
  },
  {
   "cell_type": "code",
   "execution_count": 5,
   "metadata": {
    "collapsed": true
   },
   "outputs": [],
   "source": [
    "\n",
    "lb = LabelBinarizer()\n",
    "trainY = lb.fit_transform(trainY)\n",
    "testY = lb.transform(testY)"
   ]
  },
  {
   "cell_type": "markdown",
   "metadata": {},
   "source": [
    "label names"
   ]
  },
  {
   "cell_type": "code",
   "execution_count": 6,
   "metadata": {
    "collapsed": true
   },
   "outputs": [],
   "source": [
    "\n",
    "labelNames = [\"airplane\", \"automobile\", \"bird\", \"cat\", \"deer\",\n",
    "\t\"dog\", \"frog\", \"horse\", \"ship\", \"truck\"]\n"
   ]
  },
  {
   "cell_type": "markdown",
   "metadata": {},
   "source": [
    "training model call backs"
   ]
  },
  {
   "cell_type": "code",
   "execution_count": 7,
   "metadata": {
    "collapsed": true
   },
   "outputs": [],
   "source": [
    "\n",
    "callbacks = [LearningRateScheduler(step_decay)]\n"
   ]
  },
  {
   "cell_type": "markdown",
   "metadata": {},
   "source": [
    "define model"
   ]
  },
  {
   "cell_type": "code",
   "execution_count": 8,
   "metadata": {
    "collapsed": true
   },
   "outputs": [],
   "source": [
    "\n",
    "opt = SGD(lr=0.01, momentum=0.9, nesterov=True)\n",
    "model = MiniVGGNet.build(width=32, height=32, depth=3, classes=10)\n",
    "model.compile(loss=\"categorical_crossentropy\", optimizer=opt,\n",
    "\tmetrics=[\"accuracy\"])"
   ]
  },
  {
   "cell_type": "markdown",
   "metadata": {},
   "source": [
    "train the model"
   ]
  },
  {
   "cell_type": "code",
   "execution_count": 9,
   "metadata": {
    "scrolled": true
   },
   "outputs": [
    {
     "name": "stdout",
     "output_type": "stream",
     "text": [
      "Train on 50000 samples, validate on 10000 samples\n",
      "Epoch 1/40\n",
      "50000/50000 [==============================] - 23s 466us/step - loss: 1.6269 - acc: 0.4602 - val_loss: 1.2617 - val_acc: 0.5742\n",
      "Epoch 2/40\n",
      "50000/50000 [==============================] - 21s 426us/step - loss: 1.1569 - acc: 0.6049 - val_loss: 0.9888 - val_acc: 0.6538\n",
      "Epoch 3/40\n",
      "50000/50000 [==============================] - 22s 431us/step - loss: 0.9832 - acc: 0.6581 - val_loss: 0.8349 - val_acc: 0.7031\n",
      "Epoch 4/40\n",
      "50000/50000 [==============================] - 22s 441us/step - loss: 0.8730 - acc: 0.6965 - val_loss: 0.8641 - val_acc: 0.7025\n",
      "Epoch 5/40\n",
      "50000/50000 [==============================] - 22s 442us/step - loss: 0.7271 - acc: 0.7456 - val_loss: 0.6555 - val_acc: 0.7695\n",
      "Epoch 6/40\n",
      "50000/50000 [==============================] - 23s 451us/step - loss: 0.6793 - acc: 0.7600 - val_loss: 0.6546 - val_acc: 0.7718\n",
      "Epoch 7/40\n",
      "50000/50000 [==============================] - 23s 451us/step - loss: 0.6552 - acc: 0.7690 - val_loss: 0.6636 - val_acc: 0.7655\n",
      "Epoch 8/40\n",
      "50000/50000 [==============================] - 22s 449us/step - loss: 0.6291 - acc: 0.7771 - val_loss: 0.6267 - val_acc: 0.7783\n",
      "Epoch 9/40\n",
      "50000/50000 [==============================] - 22s 450us/step - loss: 0.6126 - acc: 0.7848 - val_loss: 0.6113 - val_acc: 0.7868\n",
      "Epoch 10/40\n",
      "50000/50000 [==============================] - 23s 457us/step - loss: 0.5820 - acc: 0.7950 - val_loss: 0.6041 - val_acc: 0.7918\n",
      "Epoch 11/40\n",
      "50000/50000 [==============================] - 23s 459us/step - loss: 0.5714 - acc: 0.7988 - val_loss: 0.5960 - val_acc: 0.7927\n",
      "Epoch 12/40\n",
      "50000/50000 [==============================] - 23s 459us/step - loss: 0.5619 - acc: 0.8001 - val_loss: 0.5959 - val_acc: 0.7931\n",
      "Epoch 13/40\n",
      "50000/50000 [==============================] - 23s 459us/step - loss: 0.5567 - acc: 0.8027 - val_loss: 0.5916 - val_acc: 0.7948\n",
      "Epoch 14/40\n",
      "50000/50000 [==============================] - 23s 458us/step - loss: 0.5543 - acc: 0.8042 - val_loss: 0.5937 - val_acc: 0.7934\n",
      "Epoch 15/40\n",
      "50000/50000 [==============================] - 23s 451us/step - loss: 0.5419 - acc: 0.8080 - val_loss: 0.5875 - val_acc: 0.7960\n",
      "Epoch 16/40\n",
      "50000/50000 [==============================] - 23s 459us/step - loss: 0.5383 - acc: 0.8087 - val_loss: 0.5857 - val_acc: 0.7953\n",
      "Epoch 17/40\n",
      "50000/50000 [==============================] - 23s 459us/step - loss: 0.5401 - acc: 0.8106 - val_loss: 0.5852 - val_acc: 0.7949\n",
      "Epoch 18/40\n",
      "50000/50000 [==============================] - 23s 460us/step - loss: 0.5359 - acc: 0.8116 - val_loss: 0.5840 - val_acc: 0.7937\n",
      "Epoch 19/40\n",
      "50000/50000 [==============================] - 23s 455us/step - loss: 0.5346 - acc: 0.8115 - val_loss: 0.5834 - val_acc: 0.7957\n",
      "Epoch 20/40\n",
      "50000/50000 [==============================] - 23s 458us/step - loss: 0.5383 - acc: 0.8101 - val_loss: 0.5835 - val_acc: 0.7957\n",
      "Epoch 21/40\n",
      "50000/50000 [==============================] - 23s 458us/step - loss: 0.5340 - acc: 0.8109 - val_loss: 0.5852 - val_acc: 0.7952\n",
      "Epoch 22/40\n",
      "50000/50000 [==============================] - 23s 459us/step - loss: 0.5351 - acc: 0.8102 - val_loss: 0.5829 - val_acc: 0.7953\n",
      "Epoch 23/40\n",
      "50000/50000 [==============================] - 23s 460us/step - loss: 0.5339 - acc: 0.8111 - val_loss: 0.5838 - val_acc: 0.7962\n",
      "Epoch 24/40\n",
      "50000/50000 [==============================] - 23s 453us/step - loss: 0.5345 - acc: 0.8099 - val_loss: 0.5831 - val_acc: 0.7966\n",
      "Epoch 25/40\n",
      "50000/50000 [==============================] - 23s 457us/step - loss: 0.5316 - acc: 0.8112 - val_loss: 0.5826 - val_acc: 0.7962\n",
      "Epoch 26/40\n",
      "50000/50000 [==============================] - 23s 454us/step - loss: 0.5269 - acc: 0.8134 - val_loss: 0.5836 - val_acc: 0.7955\n",
      "Epoch 27/40\n",
      "50000/50000 [==============================] - 23s 451us/step - loss: 0.5263 - acc: 0.8127 - val_loss: 0.5840 - val_acc: 0.7954\n",
      "Epoch 28/40\n",
      "50000/50000 [==============================] - 22s 450us/step - loss: 0.5303 - acc: 0.8105 - val_loss: 0.5828 - val_acc: 0.7955\n",
      "Epoch 29/40\n",
      "50000/50000 [==============================] - 23s 458us/step - loss: 0.5294 - acc: 0.8125 - val_loss: 0.5826 - val_acc: 0.7962\n",
      "Epoch 30/40\n",
      "50000/50000 [==============================] - 23s 455us/step - loss: 0.5342 - acc: 0.8103 - val_loss: 0.5821 - val_acc: 0.7963\n",
      "Epoch 31/40\n",
      "50000/50000 [==============================] - 23s 459us/step - loss: 0.5340 - acc: 0.8126 - val_loss: 0.5821 - val_acc: 0.7962\n",
      "Epoch 32/40\n",
      "50000/50000 [==============================] - 23s 456us/step - loss: 0.5299 - acc: 0.8123 - val_loss: 0.5825 - val_acc: 0.7961\n",
      "Epoch 33/40\n",
      "50000/50000 [==============================] - 23s 456us/step - loss: 0.5310 - acc: 0.8128 - val_loss: 0.5814 - val_acc: 0.7964\n",
      "Epoch 34/40\n",
      "50000/50000 [==============================] - 23s 454us/step - loss: 0.5324 - acc: 0.8135 - val_loss: 0.5833 - val_acc: 0.7971\n",
      "Epoch 35/40\n",
      "50000/50000 [==============================] - 23s 455us/step - loss: 0.5315 - acc: 0.8135 - val_loss: 0.5825 - val_acc: 0.7961\n",
      "Epoch 36/40\n",
      "50000/50000 [==============================] - 23s 455us/step - loss: 0.5351 - acc: 0.8113 - val_loss: 0.5834 - val_acc: 0.7954\n",
      "Epoch 37/40\n",
      "50000/50000 [==============================] - 23s 456us/step - loss: 0.5315 - acc: 0.8123 - val_loss: 0.5827 - val_acc: 0.7954\n",
      "Epoch 38/40\n",
      "50000/50000 [==============================] - 22s 447us/step - loss: 0.5302 - acc: 0.8134 - val_loss: 0.5827 - val_acc: 0.7955\n",
      "Epoch 39/40\n",
      "50000/50000 [==============================] - 23s 454us/step - loss: 0.5293 - acc: 0.8120 - val_loss: 0.5830 - val_acc: 0.7955\n",
      "Epoch 40/40\n",
      "50000/50000 [==============================] - 23s 457us/step - loss: 0.5335 - acc: 0.8125 - val_loss: 0.5837 - val_acc: 0.7956\n"
     ]
    }
   ],
   "source": [
    "\n",
    "H = model.fit(trainX, trainY, validation_data=(testX, testY),\n",
    "\tbatch_size=64, epochs=40, callbacks=callbacks, verbose=1)\n"
   ]
  },
  {
   "cell_type": "markdown",
   "metadata": {},
   "source": [
    "test model"
   ]
  },
  {
   "cell_type": "code",
   "execution_count": 10,
   "metadata": {},
   "outputs": [
    {
     "name": "stdout",
     "output_type": "stream",
     "text": [
      "             precision    recall  f1-score   support\n",
      "\n",
      "   airplane       0.84      0.78      0.81      1000\n",
      " automobile       0.93      0.87      0.90      1000\n",
      "       bird       0.75      0.66      0.70      1000\n",
      "        cat       0.61      0.63      0.62      1000\n",
      "       deer       0.73      0.78      0.75      1000\n",
      "        dog       0.70      0.71      0.71      1000\n",
      "       frog       0.81      0.88      0.84      1000\n",
      "      horse       0.86      0.83      0.85      1000\n",
      "       ship       0.87      0.91      0.89      1000\n",
      "      truck       0.86      0.90      0.88      1000\n",
      "\n",
      "avg / total       0.80      0.80      0.80     10000\n",
      "\n"
     ]
    }
   ],
   "source": [
    "predictions = model.predict(testX, batch_size=64)\n",
    "print(classification_report(testY.argmax(axis=1),\n",
    "\tpredictions.argmax(axis=1), target_names=labelNames))"
   ]
  },
  {
   "cell_type": "code",
   "execution_count": 17,
   "metadata": {
    "collapsed": true
   },
   "outputs": [],
   "source": [
    "import matplotlib.pyplot as plt\n",
    "%matplotlib inline  "
   ]
  },
  {
   "cell_type": "code",
   "execution_count": 18,
   "metadata": {},
   "outputs": [
    {
     "data": {
      "image/png": "[encoded data removed]",
      "text/plain": [
       "<matplotlib.figure.Figure at 0x24d94be70f0>"
      ]
     },
     "metadata": {},
     "output_type": "display_data"
    }
   ],
   "source": [
    "plt.style.use(\"ggplot\")\n",
    "plt.figure()\n",
    "plt.plot(np.arange(0, 40), H.history[\"loss\"], label=\"train_loss\")\n",
    "plt.plot(np.arange(0, 40), H.history[\"val_loss\"], label=\"val_loss\")\n",
    "plt.plot(np.arange(0, 40), H.history[\"acc\"], label=\"train_acc\")\n",
    "plt.plot(np.arange(0, 40), H.history[\"val_acc\"], label=\"val_acc\")\n",
    "plt.title(\"Training Loss and Accuracy on CIFAR-10\")\n",
    "plt.xlabel(\"Epoch #\")\n",
    "plt.ylabel(\"Loss/Accuracy\")\n",
    "plt.legend()\n",
    "plt.show()"
   ]
  }
 ],
 "metadata": {
  "kernelspec": {
   "display_name": "Python [conda env:Anaconda]",
   "language": "python",
   "name": "conda-env-Anaconda-py"
  },
  "language_info": {
   "codemirror_mode": {
    "name": "ipython",
    "version": 3
   },
   "file_extension": ".py",
   "mimetype": "text/x-python",
   "name": "python",
   "nbconvert_exporter": "python",
   "pygments_lexer": "ipython3",
   "version": "3.6.3"
  }
 },
 "nbformat": 4,
 "nbformat_minor": 2
}
